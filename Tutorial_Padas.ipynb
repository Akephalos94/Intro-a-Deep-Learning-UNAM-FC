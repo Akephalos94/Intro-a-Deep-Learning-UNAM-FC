{
  "nbformat": 4,
  "nbformat_minor": 0,
  "metadata": {
    "colab": {
      "name": "Tutorial_Padas.ipynb",
      "provenance": [],
      "collapsed_sections": [],
      "authorship_tag": "ABX9TyPjVJQ8U8h/xUNCPmA7tFSY",
      "include_colab_link": true
    },
    "kernelspec": {
      "name": "python3",
      "display_name": "Python 3"
    }
  },
  "cells": [
    {
      "cell_type": "markdown",
      "metadata": {
        "id": "view-in-github",
        "colab_type": "text"
      },
      "source": [
        "<a href=\"https://colab.research.google.com/github/Javcm/Intro-a-Deep-Learning-UNAM-FC/blob/main/Tutorial_Padas.ipynb\" target=\"_parent\"><img src=\"https://colab.research.google.com/assets/colab-badge.svg\" alt=\"Open In Colab\"/></a>"
      ]
    },
    {
      "cell_type": "markdown",
      "metadata": {
        "id": "geSEYdHgQaoN"
      },
      "source": [
        "<img src = \"https://drive.google.com/uc?id=1KE-uSHGGxJGFZcLVxyM1Fh4JN8PUCIMv\" align = \"center\" >"
      ]
    },
    {
      "cell_type": "markdown",
      "metadata": {
        "id": "46b45W4_Qd0r"
      },
      "source": [
        "<font color = 'blue' size = 8>\n",
        "Tutorial Pandas"
      ]
    },
    {
      "cell_type": "markdown",
      "metadata": {
        "id": "T4zbIl_dQgTz"
      },
      "source": [
        "<font size=4>\n",
        "En este Notebook se aborda el uso de la paqueteria Pandas y su utilidad en diversas aplicaciones."
      ]
    },
    {
      "cell_type": "markdown",
      "metadata": {
        "id": "nwBS5PriQjU3"
      },
      "source": [
        "<font color = 'Black' size = 5>\n",
        "1.- ¿Por qué Pandas?"
      ]
    },
    {
      "cell_type": "markdown",
      "metadata": {
        "id": "N7Um-1mIQmYF"
      },
      "source": [
        "<font size=4>\n",
        "\n",
        "Pandas es un herramienta para manipulación y análisis de datos de código abierto, rápida, poderosa, flexible y fácil de utilizar, construida sobre el lenguaje de programación Python.\\\n",
        "Es de uso común en la ciencia de datos y la inteligencia artificial debido a las ventajas y facilidades que proporciona para cargar, preparar, manipular, modelar y analizar datos."
      ]
    },
    {
      "cell_type": "markdown",
      "metadata": {
        "id": "jxIA-MZJQt5h"
      },
      "source": [
        "<font size=4>\n",
        "Algunas características que hacen útil a Pandas son:"
      ]
    },
    {
      "cell_type": "markdown",
      "metadata": {
        "id": "fcej30LmQw_8"
      },
      "source": [
        "<font size=4>\n",
        "    \n",
        "1.- Estructuras de datos similares a matrices ($DataFrame$).\\\n",
        "2.- DataFrames similares a los de otros lenguajes de programación.\\\n",
        "3.- Básicamente, los DataFrames son equivalentes a una tabla.\\\n",
        "4.- Los datos en las columnas deben ser del mismo tipo, pero los datos en renglones pueden variar.\\\n",
        "5.- Altamente flexible para tomar datos de múltiples fuentes."
      ]
    },
    {
      "cell_type": "markdown",
      "metadata": {
        "id": "XIbprCHzQz0F"
      },
      "source": [
        "<font size=4> Cualquier cosa que quieras saber de esta biblioteca en el futuro lo puedes encontrar [aquí](https://pandas.pydata.org/docs/user_guide/index.html)"
      ]
    },
    {
      "cell_type": "markdown",
      "metadata": {
        "id": "D7MT9NAlQ-w0"
      },
      "source": [
        "<font size=4>\n",
        "Importamos la paquetería Pandas:"
      ]
    },
    {
      "cell_type": "code",
      "metadata": {
        "id": "6Ao64rSJQM7w"
      },
      "source": [
        "import pandas as pd\n",
        "import numpy as np"
      ],
      "execution_count": null,
      "outputs": []
    },
    {
      "cell_type": "markdown",
      "metadata": {
        "id": "TcWkDvQOrHil"
      },
      "source": [
        "### Primero vamos a entender las estructuras de datos principales de `Pandas`\n"
      ]
    },
    {
      "cell_type": "markdown",
      "metadata": {
        "id": "7A1Ka2h9sE30"
      },
      "source": [
        "# Las series de Pandas\n",
        "\n",
        "\n",
        "La estructura elemental de panda son las *series*. Para declararlas, se puede usar la función con el constructor por defecto `Series`."
      ]
    },
    {
      "cell_type": "code",
      "metadata": {
        "id": "PTTBhsGYr_sp"
      },
      "source": [
        "pd.Series(dtype='float64')"
      ],
      "execution_count": null,
      "outputs": []
    },
    {
      "cell_type": "markdown",
      "metadata": {
        "id": "lBaHV5dyspm4"
      },
      "source": [
        "Esta estructura de datos es muy parecida a un `np.array` o a una lista de datos en `Python` con la particularidad que existen índices y funciones específicas para manejar la serie. Podemos construir estas series desde una lista, desde un `np.array` o desde un diccionario:"
      ]
    },
    {
      "cell_type": "code",
      "metadata": {
        "id": "4qGMUslnr_31"
      },
      "source": [
        "lista = [2, 6, 1, 2.1]\n",
        "serie_lista=pd.Series(lista)\n",
        "serie_lista"
      ],
      "execution_count": null,
      "outputs": []
    },
    {
      "cell_type": "code",
      "metadata": {
        "id": "z3kSiyvlr_7C"
      },
      "source": [
        "diccionario = {'H' : 34, 'o' : 1, 'l' : 0, 'a' : 4, 'M' : \"Mundo\"}\n",
        "serie_diccionario = pd.Series(diccionario)\n",
        "serie_diccionario"
      ],
      "execution_count": null,
      "outputs": []
    },
    {
      "cell_type": "code",
      "metadata": {
        "id": "CQpMEgv4s2VG"
      },
      "source": [
        "serie_1 = pd.Series(data=lista, index=['Física', 'Matemáticas', 'Biología','CC'])\n",
        "serie_1"
      ],
      "execution_count": null,
      "outputs": []
    },
    {
      "cell_type": "markdown",
      "metadata": {
        "id": "Plo7x69ntvDG"
      },
      "source": [
        "# Data Frame\n",
        "\n",
        "Un Data Frame es una colección de series"
      ]
    },
    {
      "cell_type": "code",
      "metadata": {
        "id": "0Hzn9qWVs2X9"
      },
      "source": [
        "tiempo = pd.Series(np.arange(1, 6))\n",
        "posicion = pd.Series(np.random.randint(0, 10, 5))\n",
        "componentes = pd.DataFrame({'PrimeraColumna': tiempo, 'SegundaColumna': posicion})\n",
        "componentes"
      ],
      "execution_count": null,
      "outputs": []
    },
    {
      "cell_type": "markdown",
      "metadata": {
        "id": "agPaVATTQ79T"
      },
      "source": [
        "<font color = 'Black' size = 5>\n",
        "2.- DataFrames (DF)"
      ]
    },
    {
      "cell_type": "markdown",
      "metadata": {
        "id": "C6E5IiqgRGKX"
      },
      "source": [
        "<font size=4> Para este ejemplo se utilizó la base de datos **Superconductivty Data Data Set** del repositorio:"
      ]
    },
    {
      "cell_type": "markdown",
      "metadata": {
        "id": "nMBFuXYYRJNl"
      },
      "source": [
        "[UCI Machine Learning Repository: Superconductivty Data Data Set ](https://archive.ics.uci.edu/ml/datasets/Superconductivty+Data)"
      ]
    },
    {
      "cell_type": "markdown",
      "metadata": {
        "id": "dTFD07FzRNNS"
      },
      "source": [
        "<font size=4> \n",
        "Hay dos archivos: \n",
        "\n",
        "(1) train.csv: contiene 81 características extraídas de 21263 superconductores junto con la temperatura crítica en la columna 82, \n",
        "\n",
        "\n",
        "(2) unique_m.csv: contiene la fórmula química dividida para todos los 21263 superconductores del archivo  train.csv \n",
        "\n",
        "\n",
        "\n",
        "Las dos últimas columnas tienen la temperatura crítica y la fórmula química. \n",
        "    \n",
        "**El objetivo de este trabajo fue es predecir la temperatura crítica en función de las características extraídas.**"
      ]
    },
    {
      "cell_type": "markdown",
      "metadata": {
        "id": "9L0DbHDRRZ9B"
      },
      "source": [
        "# Conectar Colab con Google Drive\n",
        "\n"
      ]
    },
    {
      "cell_type": "code",
      "metadata": {
        "colab": {
          "base_uri": "https://localhost:8080/"
        },
        "id": "Z7e-BEkgbnki",
        "outputId": "9a4c22bf-94c6-43b8-b26d-dd17f23e8c31"
      },
      "source": [
        "from google.colab import drive\n",
        "drive.mount('/content/gdrive')"
      ],
      "execution_count": null,
      "outputs": [
        {
          "output_type": "stream",
          "text": [
            "Mounted at /content/gdrive\n"
          ],
          "name": "stdout"
        }
      ]
    },
    {
      "cell_type": "code",
      "metadata": {
        "colab": {
          "base_uri": "https://localhost:8080/"
        },
        "id": "wT5Zvto6bnu4",
        "outputId": "1cbb37ec-93de-4284-ec71-eb23b79cd53b"
      },
      "source": [
        "# Crear enlace simbólico entre la dirección /content/gdrive/My\\ Drive/ que ahora equivale a /mydrive\n",
        "!ln -s /content/gdrive/My\\ Drive/ /mydrive\n",
        "!ls /mydrive"
      ],
      "execution_count": null,
      "outputs": [
        {
          "output_type": "stream",
          "text": [
            " BA   Classroom  'Colab Notebooks'   Tesis-Laseres-Aleatoriosl.pdf   UNAM\n"
          ],
          "name": "stdout"
        }
      ]
    },
    {
      "cell_type": "code",
      "metadata": {
        "id": "2RCQaCMFcXfn"
      },
      "source": [
        "# Desplegar información de archivos en tal directorio\n",
        "!ls -la /mydrive/UNAM/2021-2/TSFC/TSFC_III_2021-2/Tutoriales_de_Introducción/Tutorial_Pandas/"
      ],
      "execution_count": null,
      "outputs": []
    },
    {
      "cell_type": "code",
      "metadata": {
        "id": "FzsVprfTc9OJ"
      },
      "source": [
        "# Copiar archivos.csv a /content/\n",
        "!cp /mydrive/UNAM/2021-2/TSFC/TSFC_III_2021-2/Tutoriales_de_Introducción/Tutorial_Pandas/unique_m.csv /content/\n",
        "!cp /mydrive/UNAM/2021-2/TSFC/TSFC_III_2021-2/Tutoriales_de_Introducción/Tutorial_Pandas/train.csv /content/"
      ],
      "execution_count": null,
      "outputs": []
    },
    {
      "cell_type": "markdown",
      "metadata": {
        "id": "SmDGFwvORYk1"
      },
      "source": [
        "<font size=4> Levantamos el archivo CSV con pandas:"
      ]
    },
    {
      "cell_type": "code",
      "metadata": {
        "id": "0nQp2NDpRMVy"
      },
      "source": [
        "df = pd.read_csv('train.csv')\n",
        "\n",
        "#Mostramos el DataFrame\n",
        "print(type(df))\n",
        "print(\"\\n\")\n",
        "df"
      ],
      "execution_count": null,
      "outputs": []
    },
    {
      "cell_type": "markdown",
      "metadata": {
        "id": "Q2L2jHMReAJd"
      },
      "source": [
        "<font size=4> Podemos verificar las dimensiones del DataFrame con el atributo **.shape** como en los arreglos de Python."
      ]
    },
    {
      "cell_type": "code",
      "metadata": {
        "id": "UsADY844RNqy"
      },
      "source": [
        "df.shape"
      ],
      "execution_count": null,
      "outputs": []
    },
    {
      "cell_type": "markdown",
      "metadata": {
        "id": "CwlQSNG6eOSZ"
      },
      "source": [
        "<font size=4> Observamos que tenemos 21263 superconductores y 82 rasgos (features) de cada uno."
      ]
    },
    {
      "cell_type": "markdown",
      "metadata": {
        "id": "pG7FjBmKeTIK"
      },
      "source": [
        "<font size=4> Podemos visualizar los primeros $n$ renglones con el atributo **.head(n)** y los últimos $m$ con **.tail(m)** de la siguiente manera:"
      ]
    },
    {
      "cell_type": "code",
      "metadata": {
        "id": "7VhMA7JOeC8j"
      },
      "source": [
        "n = 10 \n",
        "df.head(n)"
      ],
      "execution_count": null,
      "outputs": []
    },
    {
      "cell_type": "code",
      "metadata": {
        "id": "zd4_1wc0eXK3"
      },
      "source": [
        "m = 5\n",
        "df.tail(m)"
      ],
      "execution_count": null,
      "outputs": []
    },
    {
      "cell_type": "markdown",
      "metadata": {
        "id": "kthLAk86eiox"
      },
      "source": [
        "<font size=4> Podemos renombrar una columna en particular utilzando el atributo **.rename()**"
      ]
    },
    {
      "cell_type": "code",
      "metadata": {
        "id": "9dytZYESedan"
      },
      "source": [
        "# Cambiamos el nombre de la columna \"number_of_elements\" \n",
        "# por \"numero_de_elementos\"\n",
        "\n",
        "df.rename(columns = {\"number_of_elements\":\"numero_de_elementos\"}, inplace = True)  \n",
        "\n",
        "                                                                                   \n",
        "df.head(5)"
      ],
      "execution_count": null,
      "outputs": []
    },
    {
      "cell_type": "markdown",
      "metadata": {
        "id": "PgVrKrSEf7IQ"
      },
      "source": [
        "<font size=4> Podemos acceder a información de las columnas del dataframe mediante el atributo **df.column_name** o mediante la instrucción **df['column_name']**"
      ]
    },
    {
      "cell_type": "code",
      "metadata": {
        "id": "IVy9WTBOflaf"
      },
      "source": [
        "#Utilizamos cada uno de los comandos:\n",
        "\n",
        "print(type(df.numero_de_elementos))\n",
        "df.numero_de_elementos"
      ],
      "execution_count": null,
      "outputs": []
    },
    {
      "cell_type": "code",
      "metadata": {
        "id": "0i-BTJ2XgFIJ"
      },
      "source": [
        "print(type(df[\"numero_de_elementos\"]))\n",
        "df[\"numero_de_elementos\"]\n"
      ],
      "execution_count": null,
      "outputs": []
    },
    {
      "cell_type": "markdown",
      "metadata": {
        "id": "Z4Y2iSECgjdN"
      },
      "source": [
        "# Sugerencia/Consejo: \n",
        "\n",
        "## Al trabajar con cuenstiones numéricas es preferible trabajar con **arrays** que con  **DataFrames**.\n",
        "\n",
        "Para ello, cuando se tiene un DataFrame podemos acceder a su representación Numpy con el campo**.values**"
      ]
    },
    {
      "cell_type": "code",
      "metadata": {
        "id": "i2yshggVgeT7"
      },
      "source": [
        "#Utilizamos cada uno de los comandos:\n",
        "\n",
        "print(type(df.numero_de_elementos.values))\n",
        "df.numero_de_elementos"
      ],
      "execution_count": null,
      "outputs": []
    },
    {
      "cell_type": "markdown",
      "metadata": {
        "id": "VN1iP9dPifRI"
      },
      "source": [
        "<font size=4> Podemos extraer información de un renglón específico del $DataFrame$  (index) mediante **series** con el atributo **.loc[ ]**:"
      ]
    },
    {
      "cell_type": "code",
      "metadata": {
        "id": "ZUDpk3yhiD_N"
      },
      "source": [
        "df.loc[524]  #Utilizamos el atributo .loc()"
      ],
      "execution_count": null,
      "outputs": []
    },
    {
      "cell_type": "markdown",
      "metadata": {
        "id": "85_EPtGqiuCU"
      },
      "source": [
        "<font size=4> Se puede acceder a información en particular utilizando los métodos previos, si por ejemplo queremos obtener la temperatura crítica del superconductor 524:"
      ]
    },
    {
      "cell_type": "code",
      "metadata": {
        "id": "9KhkkdC5ij20"
      },
      "source": [
        "df['critical_temp'][524]"
      ],
      "execution_count": null,
      "outputs": []
    },
    {
      "cell_type": "markdown",
      "metadata": {
        "id": "VCNQCQSCi7JV"
      },
      "source": [
        "<font size=4> En pandas se utilizan también los **operadores de acceso** como el atributo **.iloc[]** que basa su operación en la enumeración de renglones y columnas de Python"
      ]
    },
    {
      "cell_type": "markdown",
      "metadata": {
        "id": "ZyCzM0xLi_7H"
      },
      "source": [
        "<font size=4> Si por ejemplo buscamos la información del superconductor **i-ésimo**, entonces utilizamos **df.iloc[ i ]** el cual obtiene la información del renglón **i-esimo**."
      ]
    },
    {
      "cell_type": "code",
      "metadata": {
        "id": "ErvTUTxcizZq"
      },
      "source": [
        "df.iloc[524]"
      ],
      "execution_count": null,
      "outputs": []
    },
    {
      "cell_type": "markdown",
      "metadata": {
        "id": "piNPAYM3jE4y"
      },
      "source": [
        "<font size=4> Si queremos obtener el numero de elementos (columna 0) de todos los superconductores:"
      ]
    },
    {
      "cell_type": "code",
      "metadata": {
        "id": "zBwnMdz1jCFh"
      },
      "source": [
        "df.iloc[:, 0]"
      ],
      "execution_count": null,
      "outputs": []
    },
    {
      "cell_type": "markdown",
      "metadata": {
        "id": "NPtIMvrdjgAQ"
      },
      "source": [
        "<font size=4> Si queremos obtener el número de elementos y su temperatura crítica de los superconductores 0 y 524:"
      ]
    },
    {
      "cell_type": "code",
      "metadata": {
        "id": "DylAIfTMjHtC"
      },
      "source": [
        "df.iloc[[0,524],  [0,81]]"
      ],
      "execution_count": null,
      "outputs": []
    },
    {
      "cell_type": "markdown",
      "metadata": {
        "id": "Oa-KEDiqjk2L"
      },
      "source": [
        "<font size=4> Como se puede observar, el atributo **.iloc[]** utiliza el índice o posición del superconductor (los renglones en este caso) o las columnas para operar. De distinta manera, **.loc[]** basa su operación en el nombre del índice de los datos, no en su posición o enumeración de Python:"
      ]
    },
    {
      "cell_type": "markdown",
      "metadata": {
        "id": "TzdNsiAajnoM"
      },
      "source": [
        "<font size=4> Si queremos obtener el numero de elementos en el superconductor 524:"
      ]
    },
    {
      "cell_type": "code",
      "metadata": {
        "id": "KS220620jiJU"
      },
      "source": [
        "df.loc[524, 'numero_de_elementos']"
      ],
      "execution_count": null,
      "outputs": []
    },
    {
      "cell_type": "markdown",
      "metadata": {
        "id": "s3gzAmBKkChn"
      },
      "source": [
        "<font size=4> Si quieremos obtener el numero de elementos de los superconductores 524 y 342 por ejemplo:"
      ]
    },
    {
      "cell_type": "code",
      "metadata": {
        "id": "Hw0Swp0qj-SQ"
      },
      "source": [
        "df.loc[[524, 342], 'numero_de_elementos']"
      ],
      "execution_count": null,
      "outputs": []
    },
    {
      "cell_type": "markdown",
      "metadata": {
        "id": "M4HGReZgkHoh"
      },
      "source": [
        "<font size=4> Si quieremos obtener el numero de elementos (columna 0) y temperatura crítica (columna 85) de cada uno de los superconductores:"
      ]
    },
    {
      "cell_type": "code",
      "metadata": {
        "id": "8Pn7LBVCkEwE"
      },
      "source": [
        "df.loc[:, ['numero_de_elementos', \"critical_temp\"]]"
      ],
      "execution_count": null,
      "outputs": []
    },
    {
      "cell_type": "markdown",
      "metadata": {
        "id": "D17NctUnkMUd"
      },
      "source": [
        "##  Pandas también puede utilizar **operadores lógicos** como **==**, **<** y **>**."
      ]
    },
    {
      "cell_type": "markdown",
      "metadata": {
        "id": "RVRM51Z7kZ3A"
      },
      "source": [
        "<font size=4> Si queremos obtener los superconductores con temperatura crítica iguala 85 K hacemos lo siguiente:"
      ]
    },
    {
      "cell_type": "code",
      "metadata": {
        "id": "ZwZYo0VUkJyN"
      },
      "source": [
        "df.loc[df.critical_temp == 85]"
      ],
      "execution_count": null,
      "outputs": []
    },
    {
      "cell_type": "markdown",
      "metadata": {
        "id": "u3vfT44GkmX6"
      },
      "source": [
        "<font size=4> Si queremos obtener los superconductores con temperatura crítica menor a 85 K hacemos lo siguiente:"
      ]
    },
    {
      "cell_type": "code",
      "metadata": {
        "id": "YJz2bfctkcAD"
      },
      "source": [
        "df.loc[df.critical_temp < 85]"
      ],
      "execution_count": null,
      "outputs": []
    },
    {
      "cell_type": "markdown",
      "metadata": {
        "id": "yTJV99cXktdy"
      },
      "source": [
        "<font size=4> Si queremos los superconductores con temperatura crítica de 83 o de 85 K"
      ]
    },
    {
      "cell_type": "code",
      "metadata": {
        "id": "Fe3K8ZMukoZU"
      },
      "source": [
        "df.loc[df.critical_temp.isin( [83, 85] )]"
      ],
      "execution_count": null,
      "outputs": []
    },
    {
      "cell_type": "markdown",
      "metadata": {
        "id": "FLXTrahQk3ht"
      },
      "source": [
        "<font size=4> Si queremos identificar todas las posiciones en el dataframe que tienen un valor vacío o **\"NaN\"**"
      ]
    },
    {
      "cell_type": "code",
      "metadata": {
        "id": "ZK0yAQtjkwV0"
      },
      "source": [
        "df.loc[df.critical_temp.isnull()].shape\n",
        "#df.loc[df.critical_temp.notnull()].shape"
      ],
      "execution_count": null,
      "outputs": []
    },
    {
      "cell_type": "markdown",
      "metadata": {
        "id": "UxVms89DlTlU"
      },
      "source": [
        "<font size=4> Pandas también puede calcular promedios, desviación estándar, etc. y otras funciones útiles, por ejemplo:"
      ]
    },
    {
      "cell_type": "markdown",
      "metadata": {
        "id": "Ddi_i9RulWzC"
      },
      "source": [
        "<font size=4> El atributo **.describe()** nos da la siguiente información de cada una de las columnas del dataframe:"
      ]
    },
    {
      "cell_type": "code",
      "metadata": {
        "id": "LzfxMtLvlLWd"
      },
      "source": [
        "df.describe()"
      ],
      "execution_count": null,
      "outputs": []
    },
    {
      "cell_type": "markdown",
      "metadata": {
        "id": "uNj8sWColjK6"
      },
      "source": [
        "<font size = 4> Si queremos sólo la información de la temperatura crítica:"
      ]
    },
    {
      "cell_type": "code",
      "metadata": {
        "id": "gwlwVi3GlY13"
      },
      "source": [
        "df.critical_temp.describe()"
      ],
      "execution_count": null,
      "outputs": []
    },
    {
      "cell_type": "markdown",
      "metadata": {
        "id": "qdsvVpXzlstb"
      },
      "source": [
        "<font size=4> El atributo **.mean()** nos regresa el promedio, en este caso, de cada columna:"
      ]
    },
    {
      "cell_type": "code",
      "metadata": {
        "id": "ePUThUktlmig"
      },
      "source": [
        "#df.critical_temp.mean()\n",
        "\n",
        "df.mean()"
      ],
      "execution_count": null,
      "outputs": []
    },
    {
      "cell_type": "markdown",
      "metadata": {
        "id": "qgn6c0p1lzlp"
      },
      "source": [
        "<font size=4> El atributo **.unique()** nos regresa los valores posibles que puede tomar un elemento sin repetir:"
      ]
    },
    {
      "cell_type": "code",
      "metadata": {
        "id": "ZQqNq_k_lvv9"
      },
      "source": [
        "df.numero_de_elementos.unique()"
      ],
      "execution_count": null,
      "outputs": []
    },
    {
      "cell_type": "markdown",
      "metadata": {
        "id": "BxXM8GrbqBMS"
      },
      "source": [
        "<font size = 5> Por otro lado, el archivo **unique_m.csv** contiene la composición por elemento de cada uno de los superconductores así como su fórmula."
      ]
    },
    {
      "cell_type": "code",
      "metadata": {
        "id": "Wlw6mqDKl5HO"
      },
      "source": [
        "df_2 = pd.read_csv('unique_m.csv')\n",
        "df_2"
      ],
      "execution_count": null,
      "outputs": []
    },
    {
      "cell_type": "markdown",
      "metadata": {
        "id": "6ba8vO0vqNWn"
      },
      "source": [
        "<font size=4> Si queremos agregar a nuestro dataframe original la columna **material** que aparece en este nuevo archivo, hacemos lo siguiente:"
      ]
    },
    {
      "cell_type": "code",
      "metadata": {
        "id": "RArIXWMKqG6v"
      },
      "source": [
        "df[\"compuesto\"] = df_2[\"material\"]"
      ],
      "execution_count": null,
      "outputs": []
    },
    {
      "cell_type": "code",
      "metadata": {
        "id": "QysGwqWzqSiJ"
      },
      "source": [
        "df"
      ],
      "execution_count": null,
      "outputs": []
    },
    {
      "cell_type": "markdown",
      "metadata": {
        "id": "dnwXdLwmqb5K"
      },
      "source": [
        "<font size=4> Observamos que se agregó la columna **material** ahora con el nombre **compuesto**."
      ]
    },
    {
      "cell_type": "code",
      "metadata": {
        "id": "CkfBCtb3qV73"
      },
      "source": [
        ""
      ],
      "execution_count": null,
      "outputs": []
    }
  ]
}